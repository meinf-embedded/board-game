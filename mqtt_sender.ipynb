{
 "cells": [
  {
   "cell_type": "code",
   "execution_count": 1,
   "metadata": {},
   "outputs": [
    {
     "name": "stdout",
     "output_type": "stream",
     "text": [
      "Collecting paho-mqtt\n",
      "  Downloading paho_mqtt-2.1.0-py3-none-any.whl (67 kB)\n",
      "     ---------------------------------------- 67.2/67.2 KB 3.8 MB/s eta 0:00:00\n",
      "Installing collected packages: paho-mqtt\n",
      "Successfully installed paho-mqtt-2.1.0\n",
      "Note: you may need to restart the kernel to use updated packages.\n"
     ]
    },
    {
     "name": "stderr",
     "output_type": "stream",
     "text": [
      "WARNING: You are using pip version 22.0.4; however, version 24.3.1 is available.\n",
      "You should consider upgrading via the 'd:\\projects\\meinf\\board-game\\env\\Scripts\\python.exe -m pip install --upgrade pip' command.\n"
     ]
    }
   ],
   "source": [
    "%pip install paho-mqtt"
   ]
  },
  {
   "cell_type": "code",
   "execution_count": 2,
   "metadata": {},
   "outputs": [
    {
     "name": "stderr",
     "output_type": "stream",
     "text": [
      "C:\\Users\\drwni\\AppData\\Local\\Temp\\ipykernel_17336\\2087775458.py:18: DeprecationWarning: Callback API version 1 is deprecated, update to latest version\n",
      "  client = mqtt.Client()\n"
     ]
    },
    {
     "name": "stdout",
     "output_type": "stream",
     "text": [
      "Connected to MQTT Broker!\n"
     ]
    }
   ],
   "source": [
    "import paho.mqtt.client as mqtt\n",
    "import time\n",
    "\n",
    "# MQTT Configuration\n",
    "BROKER = \"agrospai.udl.cat\"  # Replace with your MQTT broker address\n",
    "USER = \"duo_jc\"\n",
    "PASSWORD = \"VNbxst6n\"\n",
    "PORT = 1883  # Default MQTT port\n",
    "KEEPALIVE = 60  # Keepalive duration in seconds\n",
    "\n",
    "def on_connect(client, userdata, flags, rc):\n",
    "    if rc == 0:\n",
    "        print(\"Connected to MQTT Broker!\")\n",
    "    else:\n",
    "        print(f\"Failed to connect, return code {rc}\")\n",
    "\n",
    "# Initialize the MQTT client\n",
    "client = mqtt.Client()\n",
    "client.username_pw_set(USER, PASSWORD)  # Set the username and password\n",
    "client.on_connect = on_connect\n",
    "\n",
    "# Connect to the MQTT broker\n",
    "client.connect(BROKER, PORT, KEEPALIVE)\n",
    "\n",
    "# Start the MQTT loop in a separate thread\n",
    "client.loop_start()\n",
    "\n",
    "def send_mqtt_message(topic, message):\n",
    "    \"\"\"Publish a message to a specific MQTT topic.\"\"\"\n",
    "    client.publish(topic, message)\n",
    "    print(f\"Message sent to topic '{topic}': {message}\")"
   ]
  },
  {
   "cell_type": "markdown",
   "metadata": {},
   "source": [
    "## Ready"
   ]
  },
  {
   "cell_type": "code",
   "execution_count": 304,
   "metadata": {},
   "outputs": [
    {
     "name": "stdout",
     "output_type": "stream",
     "text": [
      "Message sent to topic 'players/duo_jc/actions/ready/base': True\n",
      "Message sent to topic 'players/duo_jc/actions/ready/meeple': True\n",
      "Message sent to topic 'players/duo_hz/actions/ready/base': True\n",
      "Message sent to topic 'players/duo_hz/actions/ready/meeple': True\n"
     ]
    }
   ],
   "source": [
    "send_mqtt_message(\"players/duo_jc/actions/ready/base\", \"True\")\n",
    "send_mqtt_message(\"players/duo_jc/actions/ready/meeple\", \"True\")\n",
    "send_mqtt_message(\"players/duo_hz/actions/ready/base\", \"True\")\n",
    "send_mqtt_message(\"players/duo_hz/actions/ready/meeple\", \"True\")"
   ]
  },
  {
   "cell_type": "markdown",
   "metadata": {},
   "source": [
    "## Jordi - Christian"
   ]
  },
  {
   "cell_type": "code",
   "execution_count": 305,
   "metadata": {},
   "outputs": [
    {
     "name": "stdout",
     "output_type": "stream",
     "text": [
      "Message sent to topic 'players/duo_jc/actions/move': True\n"
     ]
    }
   ],
   "source": [
    "# MOVE\n",
    "send_mqtt_message(\"players/duo_jc/actions/move\", \"True\")"
   ]
  },
  {
   "cell_type": "code",
   "execution_count": 301,
   "metadata": {},
   "outputs": [
    {
     "name": "stdout",
     "output_type": "stream",
     "text": [
      "Message sent to topic 'players/duo_jc/actions/shoot': True\n"
     ]
    }
   ],
   "source": [
    "# SHOOT\n",
    "send_mqtt_message(\"players/duo_jc/actions/shoot\", \"True\")"
   ]
  },
  {
   "cell_type": "code",
   "execution_count": 311,
   "metadata": {},
   "outputs": [
    {
     "name": "stdout",
     "output_type": "stream",
     "text": [
      "Message sent to topic 'players/duo_jc/actions/die': True\n"
     ]
    }
   ],
   "source": [
    "# DIE\n",
    "send_mqtt_message(\"players/duo_jc/actions/die\", \"True\")"
   ]
  },
  {
   "cell_type": "markdown",
   "metadata": {},
   "source": [
    "## Hao - Zihan"
   ]
  },
  {
   "cell_type": "code",
   "execution_count": 306,
   "metadata": {},
   "outputs": [
    {
     "name": "stdout",
     "output_type": "stream",
     "text": [
      "Message sent to topic 'players/duo_hz/actions/move': True\n"
     ]
    }
   ],
   "source": [
    "# MOVE\n",
    "send_mqtt_message(\"players/duo_hz/actions/move\", \"True\")"
   ]
  },
  {
   "cell_type": "code",
   "execution_count": 309,
   "metadata": {},
   "outputs": [
    {
     "name": "stdout",
     "output_type": "stream",
     "text": [
      "Message sent to topic 'players/duo_hz/actions/shoot': True\n"
     ]
    }
   ],
   "source": [
    "# SHOOT\n",
    "send_mqtt_message(\"players/duo_hz/actions/shoot\", \"True\")"
   ]
  },
  {
   "cell_type": "code",
   "execution_count": 310,
   "metadata": {},
   "outputs": [
    {
     "name": "stdout",
     "output_type": "stream",
     "text": [
      "Message sent to topic 'players/duo_hz/actions/die': True\n"
     ]
    }
   ],
   "source": [
    "# DIE\n",
    "send_mqtt_message(\"players/duo_hz/actions/die\", \"True\")"
   ]
  },
  {
   "cell_type": "markdown",
   "metadata": {},
   "source": [
    "---"
   ]
  },
  {
   "cell_type": "code",
   "execution_count": 6,
   "metadata": {},
   "outputs": [
    {
     "data": {
      "text/plain": [
       "<MQTTErrorCode.MQTT_ERR_SUCCESS: 0>"
      ]
     },
     "execution_count": 6,
     "metadata": {},
     "output_type": "execute_result"
    }
   ],
   "source": [
    "client.disconnect()"
   ]
  }
 ],
 "metadata": {
  "kernelspec": {
   "display_name": "env",
   "language": "python",
   "name": "python3"
  },
  "language_info": {
   "codemirror_mode": {
    "name": "ipython",
    "version": 3
   },
   "file_extension": ".py",
   "mimetype": "text/x-python",
   "name": "python",
   "nbconvert_exporter": "python",
   "pygments_lexer": "ipython3",
   "version": "3.9.13"
  }
 },
 "nbformat": 4,
 "nbformat_minor": 2
}
